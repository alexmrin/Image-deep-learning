{
  "cells": [
    {
      "cell_type": "markdown",
      "metadata": {
        "id": "view-in-github",
        "colab_type": "text"
      },
      "source": [
        "<a href=\"https://colab.research.google.com/github/alexmrin/Image-deep-learning/blob/main/Resnet.ipynb\" target=\"_parent\"><img src=\"https://colab.research.google.com/assets/colab-badge.svg\" alt=\"Open In Colab\"/></a>"
      ]
    },
    {
      "cell_type": "markdown",
      "metadata": {
        "id": "XuwxrR1u7yj8"
      },
      "source": [
        "### Imports"
      ]
    },
    {
      "cell_type": "code",
      "execution_count": 204,
      "metadata": {
        "id": "ZT8MiTAh72Oj"
      },
      "outputs": [],
      "source": [
        "import torch\n",
        "import torch.nn as nn\n",
        "from torchvision.datasets import CIFAR10\n",
        "from torchvision.transforms import transforms\n",
        "from tqdm import tqdm\n",
        "from torch.utils.data import Dataset, DataLoader, random_split\n",
        "from sklearn.metrics import accuracy_score, classification_report, f1_score\n",
        "import torch.optim as optim\n",
        "import torchvision.utils as vutils\n",
        "import torch.nn.functional as F\n",
        "\n",
        "import numpy as np\n",
        "import matplotlib.pyplot as plt\n",
        "import seaborn as sns"
      ]
    },
    {
      "cell_type": "markdown",
      "metadata": {
        "id": "xEx_N8ZxaRjX"
      },
      "source": [
        "### **Settings**"
      ]
    },
    {
      "cell_type": "code",
      "execution_count": 205,
      "metadata": {
        "colab": {
          "base_uri": "https://localhost:8080/",
          "height": 53
        },
        "id": "61h620XUcRlj",
        "outputId": "59cec0d4-712c-4eb0-d6d5-59943b3e3016"
      },
      "outputs": [
        {
          "output_type": "stream",
          "name": "stdout",
          "text": [
            "set seeds\n"
          ]
        },
        {
          "output_type": "execute_result",
          "data": {
            "text/plain": [
              "'cuda'"
            ],
            "application/vnd.google.colaboratory.intrinsic+json": {
              "type": "string"
            }
          },
          "metadata": {},
          "execution_count": 205
        }
      ],
      "source": [
        "def set_all_seeds(seed):\n",
        "  np.random.seed(seed)\n",
        "  torch.manual_seed(seed)\n",
        "  if torch.cuda.is_available():\n",
        "    torch.cuda.manual_seed(seed)\n",
        "\n",
        "# Hyperparameters\n",
        "batch_size = 64\n",
        "lr = 0.0003\n",
        "num_epochs = 30\n",
        "random_seed = 42\n",
        "\n",
        "device = 'cuda' if torch.cuda.is_available() else 'cpu'\n",
        "#set_all_seeds(random_seed)\n",
        "if device == 'cuda':\n",
        "  current_seed = torch.cuda.initial_seed()\n",
        "else:\n",
        "  current_seed = torch.initial_seed()\n",
        "\n",
        "if random_seed == current_seed: print('set seeds')\n",
        "device"
      ]
    },
    {
      "cell_type": "code",
      "execution_count": 206,
      "metadata": {
        "id": "35fZDWxE8jWk",
        "colab": {
          "base_uri": "https://localhost:8080/"
        },
        "outputId": "9a8ca0bb-0bd1-465e-e2e4-da5af6f3135d"
      },
      "outputs": [
        {
          "output_type": "stream",
          "name": "stdout",
          "text": [
            "mkdir: cannot create directory ‘data’: File exists\n"
          ]
        }
      ],
      "source": [
        "!mkdir data"
      ]
    },
    {
      "cell_type": "code",
      "execution_count": 207,
      "metadata": {
        "colab": {
          "base_uri": "https://localhost:8080/"
        },
        "id": "vIzwNlgV-2t9",
        "outputId": "b979c84c-04c9-42c5-df25-2460b16a258f"
      },
      "outputs": [
        {
          "output_type": "stream",
          "name": "stdout",
          "text": [
            "Files already downloaded and verified\n"
          ]
        }
      ],
      "source": [
        "train_transform = transforms.Compose([\n",
        "    transforms.RandomCrop(32, padding=4),\n",
        "    transforms.RandomHorizontalFlip(),\n",
        "    transforms.ToTensor(),\n",
        "    transforms.Normalize((0.4914, 0.4822, 0.4465), (0.2023, 0.1994, 0.2010))\n",
        "])\n",
        "\n",
        "test_transform = transforms.Compose([\n",
        "    transforms.ToTensor(),\n",
        "    transforms.Normalize((0.4914, 0.4822, 0.4465), (0.2023, 0.1994, 0.2010))\n",
        "])\n",
        "\n",
        "\n",
        "dataset = CIFAR10(root='./data', train=True, transform=train_transform, download=True)\n",
        "train_dataset, val_dataset = random_split(dataset=dataset, lengths=[0.9, 0.1])\n",
        "test_dataset = CIFAR10(root='./data', train=False, transform=test_transform, download=False)\n",
        "\n",
        "train_loader = DataLoader(train_dataset, batch_size=128, shuffle=True)\n",
        "val_loader = DataLoader(val_dataset, batch_size=128, shuffle=True)\n",
        "test_loader = DataLoader(test_dataset, batch_size=128, shuffle=True)"
      ]
    },
    {
      "cell_type": "markdown",
      "metadata": {
        "id": "oGoFogU_9oCQ"
      },
      "source": [
        "### Model Architecture"
      ]
    },
    {
      "cell_type": "code",
      "execution_count": 208,
      "metadata": {
        "id": "3OAslrtn9TrN"
      },
      "outputs": [],
      "source": [
        "class Resnet(nn.Module):\n",
        "  def __init__(self):\n",
        "    super().__init__()\n",
        "\n",
        "    block16 = ResidualBlock(16)\n",
        "    block16_d = ResidualBlock(16, downsample=True)\n",
        "    block32 = ResidualBlock(32)\n",
        "\n",
        "    block32_d = ResidualBlock(32, downsample=True)\n",
        "    block64 = ResidualBlock(64)\n",
        "\n",
        "    #input size is Bx3x32x32\n",
        "    self.features = nn.Sequential(\n",
        "        nn.Conv2d(in_channels=3, out_channels=16, kernel_size=3, stride=1, padding=1),\n",
        "        nn.BatchNorm2d(num_features=16),\n",
        "        nn.ReLU(),\n",
        "\n",
        "        block16,\n",
        "        block16,\n",
        "        block16,\n",
        "\n",
        "        block16_d,\n",
        "        block32,\n",
        "        block32,\n",
        "\n",
        "        block32_d,\n",
        "        block64,\n",
        "        block64,\n",
        "\n",
        "        nn.AdaptiveAvgPool2d(1)\n",
        "    )\n",
        "\n",
        "    self.fc = nn.Sequential(\n",
        "        nn.Linear(64, 10)\n",
        "    )\n",
        "\n",
        "  def forward(self, x):\n",
        "    features = self.features(x)\n",
        "    fc = features.view(features.shape[0], -1)\n",
        "    output = self.fc(fc)\n",
        "    return output\n",
        "\n",
        "\n",
        "# residual block\n",
        "class ResidualBlock(nn.Module):\n",
        "  def __init__(self, num_channels, downsample=False):\n",
        "    super().__init__()\n",
        "\n",
        "    self.downsample = downsample\n",
        "    self.projection = nn.Sequential(\n",
        "        nn.Conv2d(in_channels=num_channels, out_channels=num_channels*2, kernel_size=1, stride=2, padding=0),\n",
        "        nn.BatchNorm2d(num_features=num_channels*2)\n",
        "    )\n",
        "    self.res_mapping_down = nn.Sequential(\n",
        "        nn.Conv2d(in_channels=num_channels, out_channels=num_channels*2, kernel_size=3, stride=2, padding=1),\n",
        "        nn.BatchNorm2d(num_features=num_channels*2),\n",
        "        nn.ReLU(),\n",
        "\n",
        "        nn.Conv2d(in_channels=num_channels*2, out_channels=num_channels*2, kernel_size=3, stride=1, padding=1),\n",
        "        nn.BatchNorm2d(num_features=num_channels*2)\n",
        "    )\n",
        "    self.res_mapping = nn.Sequential(\n",
        "        nn.Conv2d(in_channels=num_channels, out_channels=num_channels, kernel_size=3, stride=1, padding=1),\n",
        "        nn.BatchNorm2d(num_features=num_channels),\n",
        "        nn.ReLU(),\n",
        "\n",
        "        nn.Conv2d(in_channels=num_channels, out_channels=num_channels, kernel_size=3, stride=1, padding=1),\n",
        "        nn.BatchNorm2d(num_features=num_channels)\n",
        "    )\n",
        "\n",
        "  def forward(self, x):\n",
        "    if self.downsample:\n",
        "      return F.relu(self.res_mapping_down(x) + self.projection(x))\n",
        "    else:\n",
        "      return F.relu(self.res_mapping(x) + x)\n"
      ]
    },
    {
      "cell_type": "markdown",
      "metadata": {
        "id": "5r-HBc0CZlcd"
      },
      "source": [
        "### Training Loop"
      ]
    },
    {
      "cell_type": "code",
      "execution_count": 209,
      "metadata": {
        "id": "L3US8UyPZjiA",
        "colab": {
          "base_uri": "https://localhost:8080/",
          "height": 1000
        },
        "outputId": "63b2e947-4f20-4257-c861-d1b1eafe15ad"
      },
      "outputs": [
        {
          "metadata": {
            "tags": null
          },
          "name": "stderr",
          "output_type": "stream",
          "text": [
            "100%|██████████| 352/352 [00:31<00:00, 11.19it/s]\n"
          ]
        },
        {
          "metadata": {
            "tags": null
          },
          "name": "stdout",
          "output_type": "stream",
          "text": [
            "Epoch: 1/30 | Training Loss: 1.5110878710719673\n",
            "Epoch: 1/30 | Valid Loss: 1.6655489102005958\n"
          ]
        },
        {
          "metadata": {
            "tags": null
          },
          "name": "stderr",
          "output_type": "stream",
          "text": [
            "100%|██████████| 352/352 [00:30<00:00, 11.42it/s]\n"
          ]
        },
        {
          "metadata": {
            "tags": null
          },
          "name": "stdout",
          "output_type": "stream",
          "text": [
            "Epoch: 2/30 | Training Loss: 1.128398324278268\n",
            "Epoch: 2/30 | Valid Loss: 1.4900929540395738\n"
          ]
        },
        {
          "metadata": {
            "tags": null
          },
          "name": "stderr",
          "output_type": "stream",
          "text": [
            "100%|██████████| 352/352 [00:31<00:00, 11.11it/s]\n"
          ]
        },
        {
          "metadata": {
            "tags": null
          },
          "name": "stdout",
          "output_type": "stream",
          "text": [
            "Epoch: 3/30 | Training Loss: 0.9595683828334917\n",
            "Epoch: 3/30 | Valid Loss: 1.2700444966554643\n"
          ]
        },
        {
          "metadata": {
            "tags": null
          },
          "name": "stderr",
          "output_type": "stream",
          "text": [
            "100%|██████████| 352/352 [00:31<00:00, 11.23it/s]\n"
          ]
        },
        {
          "metadata": {
            "tags": null
          },
          "name": "stdout",
          "output_type": "stream",
          "text": [
            "Epoch: 4/30 | Training Loss: 0.8462656622921879\n",
            "Epoch: 4/30 | Valid Loss: 1.4916337579488754\n"
          ]
        },
        {
          "metadata": {
            "tags": null
          },
          "name": "stderr",
          "output_type": "stream",
          "text": [
            "100%|██████████| 352/352 [00:31<00:00, 11.06it/s]\n"
          ]
        },
        {
          "metadata": {
            "tags": null
          },
          "name": "stdout",
          "output_type": "stream",
          "text": [
            "Epoch: 5/30 | Training Loss: 0.768526507372206\n",
            "Epoch: 5/30 | Valid Loss: 1.436593520641327\n"
          ]
        },
        {
          "metadata": {
            "tags": null
          },
          "name": "stderr",
          "output_type": "stream",
          "text": [
            "100%|██████████| 352/352 [00:31<00:00, 11.17it/s]\n"
          ]
        },
        {
          "metadata": {
            "tags": null
          },
          "name": "stdout",
          "output_type": "stream",
          "text": [
            "Epoch: 6/30 | Training Loss: 0.7100157447328622\n",
            "Epoch: 6/30 | Valid Loss: 1.0309648886322975\n"
          ]
        },
        {
          "metadata": {
            "tags": null
          },
          "name": "stderr",
          "output_type": "stream",
          "text": [
            "100%|██████████| 352/352 [00:30<00:00, 11.38it/s]\n"
          ]
        },
        {
          "metadata": {
            "tags": null
          },
          "name": "stdout",
          "output_type": "stream",
          "text": [
            "Epoch: 7/30 | Training Loss: 0.6581662586805496\n",
            "Epoch: 7/30 | Valid Loss: 1.0863520920276641\n"
          ]
        },
        {
          "metadata": {
            "tags": null
          },
          "name": "stderr",
          "output_type": "stream",
          "text": [
            "100%|██████████| 352/352 [00:31<00:00, 11.35it/s]\n"
          ]
        },
        {
          "metadata": {
            "tags": null
          },
          "name": "stdout",
          "output_type": "stream",
          "text": [
            "Epoch: 8/30 | Training Loss: 0.6281578616154465\n",
            "Epoch: 8/30 | Valid Loss: 0.9791897937655449\n"
          ]
        },
        {
          "metadata": {
            "tags": null
          },
          "name": "stderr",
          "output_type": "stream",
          "text": [
            "100%|██████████| 352/352 [00:31<00:00, 11.13it/s]\n"
          ]
        },
        {
          "metadata": {
            "tags": null
          },
          "name": "stdout",
          "output_type": "stream",
          "text": [
            "Epoch: 9/30 | Training Loss: 0.595483582128178\n",
            "Epoch: 9/30 | Valid Loss: 0.9128755450248718\n"
          ]
        },
        {
          "metadata": {
            "tags": null
          },
          "name": "stderr",
          "output_type": "stream",
          "text": [
            "100%|██████████| 352/352 [00:31<00:00, 11.12it/s]\n"
          ]
        },
        {
          "metadata": {
            "tags": null
          },
          "name": "stdout",
          "output_type": "stream",
          "text": [
            "Epoch: 10/30 | Training Loss: 0.5717074421488426\n",
            "Epoch: 10/30 | Valid Loss: 0.8783905178308486\n"
          ]
        },
        {
          "metadata": {
            "tags": null
          },
          "name": "stderr",
          "output_type": "stream",
          "text": [
            "100%|██████████| 352/352 [00:30<00:00, 11.41it/s]\n"
          ]
        },
        {
          "metadata": {
            "tags": null
          },
          "name": "stdout",
          "output_type": "stream",
          "text": [
            "Epoch: 11/30 | Training Loss: 0.5517099706286733\n",
            "Epoch: 11/30 | Valid Loss: 1.0373626619577407\n"
          ]
        },
        {
          "metadata": {
            "tags": null
          },
          "name": "stderr",
          "output_type": "stream",
          "text": [
            "100%|██████████| 352/352 [00:31<00:00, 11.29it/s]\n"
          ]
        },
        {
          "metadata": {
            "tags": null
          },
          "name": "stdout",
          "output_type": "stream",
          "text": [
            "Epoch: 12/30 | Training Loss: 0.5356592103330926\n",
            "Epoch: 12/30 | Valid Loss: 0.845536457747221\n"
          ]
        },
        {
          "metadata": {
            "tags": null
          },
          "name": "stderr",
          "output_type": "stream",
          "text": [
            "100%|██████████| 352/352 [00:31<00:00, 11.20it/s]\n"
          ]
        },
        {
          "metadata": {
            "tags": null
          },
          "name": "stdout",
          "output_type": "stream",
          "text": [
            "Epoch: 13/30 | Training Loss: 0.5119434674693779\n",
            "Epoch: 13/30 | Valid Loss: 1.0676220893859862\n"
          ]
        },
        {
          "metadata": {
            "tags": null
          },
          "name": "stderr",
          "output_type": "stream",
          "text": [
            "100%|██████████| 352/352 [00:31<00:00, 11.24it/s]\n"
          ]
        },
        {
          "metadata": {
            "tags": null
          },
          "name": "stdout",
          "output_type": "stream",
          "text": [
            "Epoch: 14/30 | Training Loss: 0.501942118968476\n",
            "Epoch: 14/30 | Valid Loss: 1.031843400001526\n"
          ]
        },
        {
          "metadata": {
            "tags": null
          },
          "name": "stderr",
          "output_type": "stream",
          "text": [
            "100%|██████████| 352/352 [00:31<00:00, 11.31it/s]\n"
          ]
        },
        {
          "metadata": {
            "tags": null
          },
          "name": "stdout",
          "output_type": "stream",
          "text": [
            "Epoch: 15/30 | Training Loss: 0.48716464977372775\n",
            "Epoch: 15/30 | Valid Loss: 0.9049896031618119\n"
          ]
        },
        {
          "metadata": {
            "tags": null
          },
          "name": "stderr",
          "output_type": "stream",
          "text": [
            "100%|██████████| 352/352 [00:31<00:00, 11.24it/s]\n"
          ]
        },
        {
          "metadata": {
            "tags": null
          },
          "name": "stdout",
          "output_type": "stream",
          "text": [
            "Epoch: 16/30 | Training Loss: 0.4753389015624469\n",
            "Epoch: 16/30 | Valid Loss: 0.9520768642425537\n"
          ]
        },
        {
          "metadata": {
            "tags": null
          },
          "name": "stderr",
          "output_type": "stream",
          "text": [
            "100%|██████████| 352/352 [00:31<00:00, 11.19it/s]\n"
          ]
        },
        {
          "metadata": {
            "tags": null
          },
          "name": "stdout",
          "output_type": "stream",
          "text": [
            "Epoch: 17/30 | Training Loss: 0.4621943129565228\n",
            "Epoch: 17/30 | Valid Loss: 0.9414180681109429\n"
          ]
        },
        {
          "metadata": {
            "tags": null
          },
          "name": "stderr",
          "output_type": "stream",
          "text": [
            "100%|██████████| 352/352 [00:31<00:00, 11.22it/s]\n"
          ]
        },
        {
          "metadata": {
            "tags": null
          },
          "name": "stdout",
          "output_type": "stream",
          "text": [
            "Epoch: 18/30 | Training Loss: 0.4551523809575222\n",
            "Epoch: 18/30 | Valid Loss: 0.9574055947363377\n"
          ]
        },
        {
          "metadata": {
            "tags": null
          },
          "name": "stderr",
          "output_type": "stream",
          "text": [
            "100%|██████████| 352/352 [00:31<00:00, 11.31it/s]\n"
          ]
        },
        {
          "metadata": {
            "tags": null
          },
          "name": "stdout",
          "output_type": "stream",
          "text": [
            "Epoch: 19/30 | Training Loss: 0.4429731904529035\n",
            "Epoch: 19/30 | Valid Loss: 0.8610146820545197\n"
          ]
        },
        {
          "metadata": {
            "tags": null
          },
          "name": "stderr",
          "output_type": "stream",
          "text": [
            "100%|██████████| 352/352 [00:34<00:00, 10.13it/s]\n"
          ]
        },
        {
          "metadata": {
            "tags": null
          },
          "name": "stdout",
          "output_type": "stream",
          "text": [
            "Epoch: 20/30 | Training Loss: 0.4344761611216448\n",
            "Epoch: 20/30 | Valid Loss: 0.8576416492462158\n"
          ]
        },
        {
          "metadata": {
            "tags": null
          },
          "name": "stderr",
          "output_type": "stream",
          "text": [
            "100%|██████████| 352/352 [00:30<00:00, 11.44it/s]\n"
          ]
        },
        {
          "metadata": {
            "tags": null
          },
          "name": "stdout",
          "output_type": "stream",
          "text": [
            "Epoch: 21/30 | Training Loss: 0.42249087345871056\n",
            "Epoch: 21/30 | Valid Loss: 0.974777090549469\n"
          ]
        },
        {
          "metadata": {
            "tags": null
          },
          "name": "stderr",
          "output_type": "stream",
          "text": [
            "100%|██████████| 352/352 [00:31<00:00, 11.27it/s]\n"
          ]
        },
        {
          "metadata": {
            "tags": null
          },
          "name": "stdout",
          "output_type": "stream",
          "text": [
            "Epoch: 22/30 | Training Loss: 0.41669442216781055\n",
            "Epoch: 22/30 | Valid Loss: 0.8160566598176956\n"
          ]
        },
        {
          "metadata": {
            "tags": null
          },
          "name": "stderr",
          "output_type": "stream",
          "text": [
            "100%|██████████| 352/352 [00:31<00:00, 11.29it/s]\n"
          ]
        },
        {
          "metadata": {
            "tags": null
          },
          "name": "stdout",
          "output_type": "stream",
          "text": [
            "Epoch: 23/30 | Training Loss: 0.4084744424643842\n",
            "Epoch: 23/30 | Valid Loss: 0.7727426990866662\n"
          ]
        },
        {
          "metadata": {
            "tags": null
          },
          "name": "stderr",
          "output_type": "stream",
          "text": [
            "100%|██████████| 352/352 [00:30<00:00, 11.47it/s]\n"
          ]
        },
        {
          "metadata": {
            "tags": null
          },
          "name": "stdout",
          "output_type": "stream",
          "text": [
            "Epoch: 24/30 | Training Loss: 0.39877374775030394\n",
            "Epoch: 24/30 | Valid Loss: 0.8509630918502807\n"
          ]
        },
        {
          "metadata": {
            "tags": null
          },
          "name": "stderr",
          "output_type": "stream",
          "text": [
            "100%|██████████| 352/352 [00:30<00:00, 11.48it/s]\n"
          ]
        },
        {
          "metadata": {
            "tags": null
          },
          "name": "stdout",
          "output_type": "stream",
          "text": [
            "Epoch: 25/30 | Training Loss: 0.39229466702619736\n",
            "Epoch: 25/30 | Valid Loss: 0.7222919806838035\n"
          ]
        },
        {
          "metadata": {
            "tags": null
          },
          "name": "stderr",
          "output_type": "stream",
          "text": [
            "100%|██████████| 352/352 [00:31<00:00, 11.24it/s]\n"
          ]
        },
        {
          "metadata": {
            "tags": null
          },
          "name": "stdout",
          "output_type": "stream",
          "text": [
            "Epoch: 26/30 | Training Loss: 0.3892507667822594\n",
            "Epoch: 26/30 | Valid Loss: 0.772229753434658\n"
          ]
        },
        {
          "metadata": {
            "tags": null
          },
          "name": "stderr",
          "output_type": "stream",
          "text": [
            "100%|██████████| 352/352 [00:31<00:00, 11.32it/s]\n"
          ]
        },
        {
          "metadata": {
            "tags": null
          },
          "name": "stdout",
          "output_type": "stream",
          "text": [
            "Epoch: 27/30 | Training Loss: 0.3785844262774018\n",
            "Epoch: 27/30 | Valid Loss: 0.7524303555488586\n"
          ]
        },
        {
          "metadata": {
            "tags": null
          },
          "name": "stderr",
          "output_type": "stream",
          "text": [
            "100%|██████████| 352/352 [00:30<00:00, 11.47it/s]\n"
          ]
        },
        {
          "metadata": {
            "tags": null
          },
          "name": "stdout",
          "output_type": "stream",
          "text": [
            "Epoch: 28/30 | Training Loss: 0.37109043123200536\n",
            "Epoch: 28/30 | Valid Loss: 0.7792023256421089\n"
          ]
        },
        {
          "output_type": "stream",
          "name": "stderr",
          "text": [
            "100%|██████████| 352/352 [00:31<00:00, 11.21it/s]\n"
          ]
        },
        {
          "output_type": "stream",
          "name": "stdout",
          "text": [
            "Epoch: 29/30 | Training Loss: 0.37281741646372457\n",
            "Epoch: 29/30 | Valid Loss: 0.7362355962395668\n"
          ]
        },
        {
          "output_type": "stream",
          "name": "stderr",
          "text": [
            "100%|██████████| 352/352 [00:31<00:00, 11.23it/s]\n"
          ]
        },
        {
          "output_type": "stream",
          "name": "stdout",
          "text": [
            "Epoch: 30/30 | Training Loss: 0.3638541895726865\n",
            "Epoch: 30/30 | Valid Loss: 0.8428829699754715\n"
          ]
        },
        {
          "output_type": "display_data",
          "data": {
            "text/plain": [
              "<Figure size 640x480 with 1 Axes>"
            ],
            "image/png": "[encoded data removed]"
          },
          "metadata": {}
        }
      ],
      "source": [
        "model = Resnet()\n",
        "model.to(device)\n",
        "\n",
        "criterion = nn.CrossEntropyLoss()\n",
        "optimizer = optim.Adam(model.parameters(), lr=lr, weight_decay=0.0003)\n",
        "scheduler = torch.optim.lr_scheduler.ReduceLROnPlateau(optimizer, 'min', patience=10, factor=0.1)\n",
        "\n",
        "train_losses = []\n",
        "val_losses = []\n",
        "\n",
        "for epoch in range(num_epochs):\n",
        "  model.train()\n",
        "  running_loss = 0\n",
        "  for i, (images, labels) in enumerate(tqdm(train_loader)):\n",
        "    images, labels = images.to(device), labels.to(device)\n",
        "\n",
        "    optimizer.zero_grad()\n",
        "    predictions = model(images)\n",
        "    loss = criterion(predictions, labels)\n",
        "    loss.backward()\n",
        "    optimizer.step()\n",
        "    running_loss += loss.item()\n",
        "\n",
        "  train_losses.append(running_loss/len(train_loader))\n",
        "\n",
        "  print(f'Epoch: {epoch+1}/{num_epochs} | Training Loss: {running_loss/len(train_loader)}')\n",
        "\n",
        "  model.eval()\n",
        "  running_loss = 0\n",
        "  with torch.no_grad():\n",
        "    for i, (images, labels) in enumerate(val_loader):\n",
        "      images, labels = images.to(device), labels.to(device)\n",
        "\n",
        "      predictions = model(images)\n",
        "      loss = criterion(predictions, labels)\n",
        "      running_loss += loss.item()\n",
        "\n",
        "  scheduler.step(running_loss/len(val_loader))\n",
        "  val_losses.append(running_loss/len(val_loader))\n",
        "\n",
        "  print(f'Epoch: {epoch+1}/{num_epochs} | Valid Loss: {running_loss/len(val_loader)}')\n",
        "\n",
        "plt.title('Loss Graph')\n",
        "sns.lineplot(train_losses, label='Training Loss')\n",
        "sns.lineplot(val_losses, label='Validation Loss')\n",
        "plt.xlabel('Epoch')\n",
        "plt.ylabel('Loss')\n",
        "plt.legend()\n",
        "plt.show()"
      ]
    },
    {
      "cell_type": "code",
      "source": [
        "all_predictions = []\n",
        "all_labels = []\n",
        "\n",
        "model.eval()\n",
        "\n",
        "with torch.no_grad():\n",
        "    for images, labels in test_loader:\n",
        "        images, labels = images.to(device), labels.to(device)\n",
        "\n",
        "        # Compute model predictions\n",
        "        predictions = model(images)\n",
        "        predictions = torch.argmax(predictions, dim=1)\n",
        "\n",
        "        # Append predictions and labels to lists\n",
        "        all_predictions.extend(predictions.detach().cpu().numpy())\n",
        "        all_labels.extend(labels.cpu().numpy())\n",
        "\n",
        "# Evaluation Metrics\n",
        "accuracy = accuracy_score(all_labels, all_predictions)\n",
        "print(f'Accuracy on test set: {accuracy}')"
      ],
      "metadata": {
        "colab": {
          "base_uri": "https://localhost:8080/"
        },
        "id": "aQ2YoYtIvV04",
        "outputId": "8acf6524-250f-4b06-c309-7d1d653b5981"
      },
      "execution_count": 210,
      "outputs": [
        {
          "output_type": "stream",
          "name": "stdout",
          "text": [
            "Accuracy on test set: 0.7345\n"
          ]
        }
      ]
    }
  ],
  "metadata": {
    "accelerator": "GPU",
    "colab": {
      "provenance": [],
      "gpuType": "T4",
      "authorship_tag": "ABX9TyOdIyTIQTVv7ALUTck+CXGY",
      "include_colab_link": true
    },
    "kernelspec": {
      "display_name": "Python 3",
      "name": "python3"
    },
    "language_info": {
      "name": "python"
    }
  },
  "nbformat": 4,
  "nbformat_minor": 0
}