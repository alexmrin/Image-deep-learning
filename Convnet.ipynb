{
  "cells": [
    {
      "cell_type": "markdown",
      "metadata": {
        "id": "view-in-github",
        "colab_type": "text"
      },
      "source": [
        "<a href=\"https://colab.research.google.com/github/alexmrin/Image-deep-learning/blob/main/Convnet.ipynb\" target=\"_parent\"><img src=\"https://colab.research.google.com/assets/colab-badge.svg\" alt=\"Open In Colab\"/></a>"
      ]
    },
    {
      "cell_type": "code",
      "execution_count": null,
      "metadata": {
        "colab": {
          "base_uri": "https://localhost:8080/",
          "height": 53
        },
        "id": "r8mcdTvsONWf",
        "outputId": "52617a5f-f5ef-439f-eb8a-1049a4d5babd"
      },
      "outputs": [
        {
          "output_type": "stream",
          "name": "stdout",
          "text": [
            "mkdir: cannot create directory ‘data’: File exists\n"
          ]
        },
        {
          "output_type": "execute_result",
          "data": {
            "text/plain": [
              "'cuda'"
            ],
            "application/vnd.google.colaboratory.intrinsic+json": {
              "type": "string"
            }
          },
          "metadata": {},
          "execution_count": 416
        }
      ],
      "source": [
        "import torch\n",
        "from torchvision.datasets import CIFAR10\n",
        "from torchvision.transforms import transforms\n",
        "import torch.nn as nn\n",
        "from torch.utils.data import random_split, Dataset, DataLoader\n",
        "from tqdm import tqdm\n",
        "from torchvision import transforms\n",
        "import torch.optim as optim\n",
        "from sklearn.metrics import accuracy_score, f1_score\n",
        "\n",
        "import numpy as np\n",
        "import matplotlib.pyplot as plt\n",
        "import seaborn as sns\n",
        "import pandas as pd\n",
        "!mkdir data\n",
        "device = 'cuda' if torch.cuda.is_available() else 'cpu'\n",
        "device"
      ]
    },
    {
      "cell_type": "markdown",
      "source": [
        "### Import and Process Data"
      ],
      "metadata": {
        "id": "F56fg5koJxfX"
      }
    },
    {
      "cell_type": "code",
      "execution_count": null,
      "metadata": {
        "colab": {
          "base_uri": "https://localhost:8080/"
        },
        "id": "F7NAVI6NRRFR",
        "outputId": "8eb35259-a162-4685-edec-ad41973b2a12"
      },
      "outputs": [
        {
          "output_type": "stream",
          "name": "stdout",
          "text": [
            "Files already downloaded and verified\n"
          ]
        }
      ],
      "source": [
        "transform = transforms.Compose([\n",
        "    transforms.ToTensor()\n",
        "])\n",
        "\n",
        "generator = torch.Generator().manual_seed(42)\n",
        "dataset = CIFAR10(root='/content/data', train=True, transform = transform, download=True)\n",
        "train_dataset, val_dataset = random_split(dataset, [0.8, 0.2], generator)\n",
        "test_dataset = CIFAR10(root='./data', train=False, transform = transform, download=False)"
      ]
    },
    {
      "cell_type": "code",
      "execution_count": null,
      "metadata": {
        "colab": {
          "base_uri": "https://localhost:8080/",
          "height": 448
        },
        "id": "cPYNTiHOvYpm",
        "outputId": "8cb79cbe-80cb-4e97-d5c0-6568df856fdd"
      },
      "outputs": [
        {
          "output_type": "execute_result",
          "data": {
            "text/plain": [
              "<matplotlib.image.AxesImage at 0x79156f823970>"
            ]
          },
          "metadata": {},
          "execution_count": 418
        },
        {
          "output_type": "display_data",
          "data": {
            "text/plain": [
              "<Figure size 640x480 with 1 Axes>"
            ],
            "image/png": "[encoded data removed]"
          },
          "metadata": {}
        }
      ],
      "source": [
        "test_img = train_dataset[0][0]\n",
        "plt.imshow(test_img.permute(1, 2, 0))"
      ]
    },
    {
      "cell_type": "code",
      "source": [
        "test_img = test_dataset[0][0]\n",
        "plt.imshow(test_img.permute(1, 2, 0))"
      ],
      "metadata": {
        "colab": {
          "base_uri": "https://localhost:8080/",
          "height": 448
        },
        "id": "Uuxxvg2_igWj",
        "outputId": "795cbaef-632d-4204-e210-46919415bba1"
      },
      "execution_count": null,
      "outputs": [
        {
          "output_type": "execute_result",
          "data": {
            "text/plain": [
              "<matplotlib.image.AxesImage at 0x79156f344d90>"
            ]
          },
          "metadata": {},
          "execution_count": 419
        },
        {
          "output_type": "display_data",
          "data": {
            "text/plain": [
              "<Figure size 640x480 with 1 Axes>"
            ],
            "image/png": "[encoded data removed]"
          },
          "metadata": {}
        }
      ]
    },
    {
      "cell_type": "code",
      "source": [
        "train_loader = DataLoader(train_dataset, batch_size=32, shuffle=True)\n",
        "val_loader = DataLoader(val_dataset, batch_size=32, shuffle=True)\n",
        "test_loader = DataLoader(test_dataset, batch_size=len(test_dataset))"
      ],
      "metadata": {
        "id": "3U7FVjAvnn-o"
      },
      "execution_count": null,
      "outputs": []
    },
    {
      "cell_type": "markdown",
      "source": [
        "### Model Creation"
      ],
      "metadata": {
        "id": "UcDbryKXoacE"
      }
    },
    {
      "cell_type": "code",
      "source": [
        "class convnet(nn.Module):\n",
        "  def __init__(self):\n",
        "    super().__init__()\n",
        "    self.features = nn.Sequential(\n",
        "        nn.Conv2d(in_channels=3, out_channels=16, kernel_size=3, stride=1, padding=1),\n",
        "        nn.BatchNorm2d(num_features=16),\n",
        "        nn.ReLU(),\n",
        "\n",
        "        nn.Conv2d(in_channels=16, out_channels=16, kernel_size=3, stride=1, padding=1),\n",
        "        nn.BatchNorm2d(num_features=16),\n",
        "        nn.ReLU(),\n",
        "\n",
        "        nn.Conv2d(in_channels=16, out_channels=16, kernel_size=3, stride=1, padding=1),\n",
        "        nn.BatchNorm2d(num_features=16),\n",
        "        nn.ReLU(),\n",
        "\n",
        "        nn.MaxPool2d(kernel_size=2),\n",
        "\n",
        "        nn.Conv2d(in_channels=16, out_channels=32, kernel_size=3, stride=1, padding=1),\n",
        "        nn.BatchNorm2d(num_features=32),\n",
        "        nn.ReLU(),\n",
        "\n",
        "        nn.Conv2d(in_channels=32, out_channels=32, kernel_size=3, stride=1, padding=1),\n",
        "        nn.BatchNorm2d(num_features=32),\n",
        "        nn.ReLU(),\n",
        "\n",
        "        nn.Conv2d(in_channels=32, out_channels=32, kernel_size=3, stride=1, padding=1),\n",
        "        nn.BatchNorm2d(num_features=32),\n",
        "        nn.ReLU(),\n",
        "\n",
        "        nn.MaxPool2d(kernel_size=2),\n",
        "\n",
        "        nn.Conv2d(in_channels=32, out_channels=64, kernel_size=3, stride=1, padding=1),\n",
        "        nn.BatchNorm2d(num_features=64),\n",
        "        nn.ReLU(),\n",
        "\n",
        "        nn.Conv2d(in_channels=64, out_channels=64, kernel_size=3, stride=1, padding=1),\n",
        "        nn.BatchNorm2d(num_features=64),\n",
        "        nn.ReLU(),\n",
        "\n",
        "        nn.Conv2d(in_channels=64, out_channels=64, kernel_size=3, stride=1, padding=1),\n",
        "        nn.BatchNorm2d(num_features=64),\n",
        "        nn.ReLU()\n",
        "    )\n",
        "\n",
        "    self.fc = nn.Sequential(\n",
        "        nn.Linear(in_features=64*8*8, out_features=500),\n",
        "        nn.ReLU(),\n",
        "        nn.Dropout(p=0.5),\n",
        "        nn.Linear(in_features=500, out_features=10)\n",
        "    )\n",
        "\n",
        "  def forward(self, X):\n",
        "    features = self.features(X)\n",
        "    fc = torch.flatten(features, start_dim=1)\n",
        "    output = self.fc(fc)\n",
        "    return output"
      ],
      "metadata": {
        "id": "2wGt2ilroZi-"
      },
      "execution_count": null,
      "outputs": []
    },
    {
      "cell_type": "markdown",
      "source": [
        "### Training Loop"
      ],
      "metadata": {
        "id": "VkEX7_GcJtQi"
      }
    },
    {
      "cell_type": "code",
      "source": [
        "model = convnet()\n",
        "model.to(device)\n",
        "criterion = nn.CrossEntropyLoss()\n",
        "optimizer = optim.Adam(model.parameters(), lr=0.001)\n",
        "\n",
        "train_losses = []\n",
        "val_losses = []\n",
        "\n",
        "num_epochs = 10\n",
        "\n",
        "# training loop\n",
        "\n",
        "for epoch in range(num_epochs):\n",
        "  model.train()\n",
        "\n",
        "  train_loss = 0\n",
        "  for images, labels in tqdm(train_loader):\n",
        "    images, labels = images.to(device), labels.to(device)\n",
        "    optimizer.zero_grad()\n",
        "    prediction = model(images)\n",
        "    loss = criterion(prediction, labels)\n",
        "    loss.backward()\n",
        "    optimizer.step()\n",
        "\n",
        "    train_loss += loss.item()\n",
        "\n",
        "  train_loss /= len(train_dataset)\n",
        "  train_losses.append(train_loss)\n",
        "\n",
        "  model.eval()\n",
        "\n",
        "  val_loss = 0\n",
        "  with torch.no_grad():\n",
        "    for images, labels in val_loader:\n",
        "      images, labels = images.to(device), labels.to(device)\n",
        "      prediction = model(images)\n",
        "      loss = criterion(prediction, labels)\n",
        "\n",
        "      val_loss += loss.item()\n",
        "\n",
        "    val_loss /= len(val_dataset)\n",
        "    val_losses.append(val_loss)\n",
        "\n",
        "  print(f'Epoch: {epoch+1}/{num_epochs}, training loss: {train_loss}, validation loss: {val_loss}')\n",
        "\n",
        "sns.lineplot(train_losses, label='training loss')\n",
        "sns.lineplot(val_losses, label='validation loss')\n",
        "plt.title('convnet (batchnorm)')\n",
        "plt.xlabel('Epoch')\n",
        "plt.ylabel('Loss')\n",
        "# save figure\n",
        "#plt.savefig('/content/drive/MyDrive/Image Classification/Convnet/convnet_1.png')"
      ],
      "metadata": {
        "colab": {
          "base_uri": "https://localhost:8080/",
          "height": 847
        },
        "id": "_MSd9m8Zq1fx",
        "outputId": "9022bc8b-4cdd-4744-dd48-1f5c862ccb63"
      },
      "execution_count": null,
      "outputs": [
        {
          "output_type": "stream",
          "name": "stderr",
          "text": [
            "100%|██████████| 1250/1250 [00:16<00:00, 77.88it/s]\n"
          ]
        },
        {
          "output_type": "stream",
          "name": "stdout",
          "text": [
            "Epoch: 1/10, training loss: 0.04622423838973045, validation loss: 0.0407970123231411\n"
          ]
        },
        {
          "output_type": "stream",
          "name": "stderr",
          "text": [
            "100%|██████████| 1250/1250 [00:14<00:00, 87.02it/s]\n"
          ]
        },
        {
          "output_type": "stream",
          "name": "stdout",
          "text": [
            "Epoch: 2/10, training loss: 0.033502909025549886, validation loss: 0.031605853521823886\n"
          ]
        },
        {
          "output_type": "stream",
          "name": "stderr",
          "text": [
            "100%|██████████| 1250/1250 [00:14<00:00, 85.22it/s]\n"
          ]
        },
        {
          "output_type": "stream",
          "name": "stdout",
          "text": [
            "Epoch: 3/10, training loss: 0.02825495567396283, validation loss: 0.025932220986485482\n"
          ]
        },
        {
          "output_type": "stream",
          "name": "stderr",
          "text": [
            "100%|██████████| 1250/1250 [00:14<00:00, 85.24it/s]\n"
          ]
        },
        {
          "output_type": "stream",
          "name": "stdout",
          "text": [
            "Epoch: 4/10, training loss: 0.024815197471529247, validation loss: 0.02277649430036545\n"
          ]
        },
        {
          "output_type": "stream",
          "name": "stderr",
          "text": [
            "100%|██████████| 1250/1250 [00:15<00:00, 81.29it/s]\n"
          ]
        },
        {
          "output_type": "stream",
          "name": "stdout",
          "text": [
            "Epoch: 5/10, training loss: 0.022382431264966727, validation loss: 0.02108397195339203\n"
          ]
        },
        {
          "output_type": "stream",
          "name": "stderr",
          "text": [
            "100%|██████████| 1250/1250 [00:14<00:00, 86.02it/s]\n"
          ]
        },
        {
          "output_type": "stream",
          "name": "stdout",
          "text": [
            "Epoch: 6/10, training loss: 0.02015761136189103, validation loss: 0.022498715008795262\n"
          ]
        },
        {
          "output_type": "stream",
          "name": "stderr",
          "text": [
            "100%|██████████| 1250/1250 [00:15<00:00, 81.43it/s]\n"
          ]
        },
        {
          "output_type": "stream",
          "name": "stdout",
          "text": [
            "Epoch: 7/10, training loss: 0.018112228820100426, validation loss: 0.02070608961880207\n"
          ]
        },
        {
          "output_type": "stream",
          "name": "stderr",
          "text": [
            "100%|██████████| 1250/1250 [00:14<00:00, 85.53it/s]\n"
          ]
        },
        {
          "output_type": "stream",
          "name": "stdout",
          "text": [
            "Epoch: 8/10, training loss: 0.016459570847079157, validation loss: 0.020385256457328797\n"
          ]
        },
        {
          "output_type": "stream",
          "name": "stderr",
          "text": [
            "100%|██████████| 1250/1250 [00:14<00:00, 87.28it/s]\n"
          ]
        },
        {
          "output_type": "stream",
          "name": "stdout",
          "text": [
            "Epoch: 9/10, training loss: 0.0147373902708292, validation loss: 0.019678811991214754\n"
          ]
        },
        {
          "output_type": "stream",
          "name": "stderr",
          "text": [
            "100%|██████████| 1250/1250 [00:14<00:00, 86.20it/s]\n"
          ]
        },
        {
          "output_type": "stream",
          "name": "stdout",
          "text": [
            "Epoch: 10/10, training loss: 0.013290988223813475, validation loss: 0.020068036705255508\n"
          ]
        },
        {
          "output_type": "execute_result",
          "data": {
            "text/plain": [
              "Text(0, 0.5, 'Loss')"
            ]
          },
          "metadata": {},
          "execution_count": 422
        },
        {
          "output_type": "display_data",
          "data": {
            "text/plain": [
              "<Figure size 640x480 with 1 Axes>"
            ],
            "image/png": "[encoded data removed]"
          },
          "metadata": {}
        }
      ]
    },
    {
      "cell_type": "markdown",
      "source": [
        "### Testing performance"
      ],
      "metadata": {
        "id": "FGzdjfpv6jqB"
      }
    },
    {
      "cell_type": "code",
      "source": [
        "for images, labels in test_loader:\n",
        "  images, labels = images.to(device), labels.to(device)\n",
        "  predictions = model(images)\n",
        "  predictions = torch.argmax(predictions, dim=1)\n",
        "\n",
        "predictions = predictions.detach().cpu().numpy()\n",
        "labels = labels.cpu().numpy()\n",
        "\n",
        "# evaluation metrics\n",
        "accuracy = accuracy_score(labels, predictions)\n",
        "f1_score = f1_score(labels, predictions, average='weighted')\n",
        "\n",
        "print(f'Accuracy is {accuracy}, F1 score is {f1_score}')"
      ],
      "metadata": {
        "colab": {
          "base_uri": "https://localhost:8080/"
        },
        "id": "_KMwEuNIxd7i",
        "outputId": "7067f4b7-8602-4bff-b480-6534d1667737"
      },
      "execution_count": null,
      "outputs": [
        {
          "output_type": "stream",
          "name": "stdout",
          "text": [
            "Accuracy is 0.7916, F1 score is 0.790289916555088\n"
          ]
        }
      ]
    },
    {
      "cell_type": "code",
      "source": [
        "data = pd.Series({'accuracy': accuracy, 'f1_score': f1_score, 'description': 'first benchmark CNN with 10 epochs using 3 conv2d, batchnorm layers, 2 max pooling and dropout p=0.4 on linear'})\n",
        "#data.to_csv('/content/drive/MyDrive/Image Classification/Convnet/convnet_1.csv')\n",
        "data"
      ],
      "metadata": {
        "colab": {
          "base_uri": "https://localhost:8080/"
        },
        "id": "FmlFhV2HJH9V",
        "outputId": "7b21c183-b070-43d6-b911-71f6ed8c8b41"
      },
      "execution_count": null,
      "outputs": [
        {
          "output_type": "execute_result",
          "data": {
            "text/plain": [
              "accuracy                                                  0.7916\n",
              "f1_score                                                 0.79029\n",
              "description    first benchmark CNN with 10 epochs using 3 con...\n",
              "dtype: object"
            ]
          },
          "metadata": {},
          "execution_count": 424
        }
      ]
    },
    {
      "cell_type": "code",
      "source": [
        "def count_parameters(model):\n",
        "    total_params = sum(p.numel() for p in model.parameters())\n",
        "    trainable_params = sum(p.numel() for p in model.parameters() if p.requires_grad)\n",
        "    return total_params, trainable_params\n",
        "\n",
        "total, trainable = count_parameters(model)\n",
        "print(f\"Total parameters: {total}\")\n",
        "print(f\"Trainable parameters: {trainable}\")"
      ],
      "metadata": {
        "colab": {
          "base_uri": "https://localhost:8080/"
        },
        "id": "GriPpCueNbv1",
        "outputId": "0bfed83c-d05a-4cff-da7a-e8550457ba34"
      },
      "execution_count": null,
      "outputs": [
        {
          "output_type": "stream",
          "name": "stdout",
          "text": [
            "Total parameters: 2174758\n",
            "Trainable parameters: 2174758\n"
          ]
        }
      ]
    }
  ],
  "metadata": {
    "colab": {
      "provenance": [],
      "mount_file_id": "18doENsqHkW-fLt8nznty_6ULq7L6jR51",
      "authorship_tag": "ABX9TyPx8HbwBt74M3ERyVge7cnX",
      "include_colab_link": true
    },
    "kernelspec": {
      "display_name": "Python 3",
      "name": "python3"
    },
    "language_info": {
      "name": "python"
    }
  },
  "nbformat": 4,
  "nbformat_minor": 0
}